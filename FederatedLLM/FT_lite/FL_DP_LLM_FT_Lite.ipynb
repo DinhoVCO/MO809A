{
 "cells": [
  {
   "cell_type": "markdown",
   "metadata": {},
   "source": [
    "# Federated LLM Fine-tuning"
   ]
  },
  {
   "cell_type": "markdown",
   "metadata": {},
   "source": [
    "O fine-tuning federado de modelos LLM com Flower e PEFT permite ajustar modelos pré-treinados a dados específicos de cada usuário sem comprometer sua privacidade, já que os dados não são compartilhados entre os clientes. Utiliza-se o PEFT (Parameter-Efficient Fine-Tuning) para otimizar o processo de ajuste fino, reduzindo o uso de recursos por meio de técnicas como quantização em 4-bit e 8-bit, diminuindo assim o consumo de VRAM.\n",
    "\n",
    "\n",
    "```shell\n",
    "git clone --depth=1 https://github.com/DinhoVCO/MO809A.git _tmp \\\n",
    "    && mv _tmp/FederatedLLM/FT_lite ./ \\\n",
    "    && rm -rf _tmp \\\n",
    "    && cd FT_lite\n",
    "```\n",
    "\n",
    "- [Federated LLM FT ](https://flower.ai/blog/2024-03-14-llm-flowertune-federated-llm-finetuning-with-flower/)\n",
    "- [TUTORIAL ](https://learn.deeplearning.ai/courses/intro-to-federated-learning-c2/lesson/1/introduction)\n"
   ]
  },
  {
   "cell_type": "markdown",
   "metadata": {},
   "source": [
    "## 1. Import packages and utilities"
   ]
  },
  {
   "cell_type": "code",
   "execution_count": 1,
   "metadata": {},
   "outputs": [
    {
     "name": "stdout",
     "output_type": "stream",
     "text": [
      "function 'cadam32bit_grad_fp32' not found\n"
     ]
    }
   ],
   "source": [
    "import warnings\n",
    "warnings.filterwarnings(\"ignore\", category=UserWarning)\n",
    "warnings.filterwarnings(\"ignore\", category=FutureWarning)\n",
    "import flwr as fl\n",
    "from flwr_datasets import FederatedDataset\n",
    "from flwr_datasets.partitioner import IidPartitioner\n",
    "from datasets import load_dataset\n",
    "from flwr.client.mod import fixedclipping_mod\n",
    "from flwr.server.strategy import (\n",
    "    DifferentialPrivacyClientSideFixedClipping\n",
    ")\n",
    "from utils.utils import * "
   ]
  },
  {
   "cell_type": "markdown",
   "metadata": {},
   "source": [
    "* Load configuration."
   ]
  },
  {
   "cell_type": "code",
   "execution_count": 2,
   "metadata": {},
   "outputs": [],
   "source": [
    "cfg = get_config(\"federated_lite\")"
   ]
  },
  {
   "cell_type": "markdown",
   "metadata": {},
   "source": [
    "## 2. Dataset partition"
   ]
  },
  {
   "cell_type": "code",
   "execution_count": 3,
   "metadata": {},
   "outputs": [
    {
     "data": {
      "text/plain": [
       "Dataset({\n",
       "    features: ['input', 'output', 'instruction'],\n",
       "    num_rows: 1698\n",
       "})"
      ]
     },
     "execution_count": 3,
     "metadata": {},
     "output_type": "execute_result"
    }
   ],
   "source": [
    "partitioner = IidPartitioner(num_partitions=cfg.flower.num_clients)\n",
    "fds = FederatedDataset(\n",
    "    dataset=cfg.dataset.name,\n",
    "    partitioners={\"train\": partitioner}\n",
    ")\n",
    "\n",
    "partition_zero = fds.load_partition(0) \n",
    "partition_zero"
   ]
  },
  {
   "cell_type": "code",
   "execution_count": 4,
   "metadata": {},
   "outputs": [
    {
     "data": {
      "image/png": "[encoded data removed]",
      "text/plain": [
       "<Figure size 640x480 with 1 Axes>"
      ]
     },
     "metadata": {},
     "output_type": "display_data"
    }
   ],
   "source": [
    "visualize_partitions(fds)"
   ]
  },
  {
   "cell_type": "markdown",
   "metadata": {},
   "source": [
    "## 3. Client and Server"
   ]
  },
  {
   "cell_type": "markdown",
   "metadata": {},
   "source": [
    "* Load the tokenizer and other components."
   ]
  },
  {
   "cell_type": "code",
   "execution_count": 5,
   "metadata": {},
   "outputs": [],
   "source": [
    "(\n",
    "tokenizer,\n",
    "data_collator,\n",
    "formatting_prompts_func,\n",
    ") = get_tokenizer_and_data_collator_and_propt_formatting(\n",
    "    cfg.model.name, \n",
    "    cfg.model.use_fast_tokenizer,\n",
    "    cfg.train.padding_side,\n",
    ")"
   ]
  },
  {
   "cell_type": "markdown",
   "metadata": {},
   "source": [
    "* Define the client."
   ]
  },
  {
   "cell_type": "code",
   "execution_count": 6,
   "metadata": {},
   "outputs": [],
   "source": [
    "def gen_client_fn(\n",
    "    fds,\n",
    "    tokenizer,\n",
    "    formatting_prompts_func,\n",
    "    data_collator,\n",
    "    model_cfg: DictConfig,\n",
    "    train_cfg: DictConfig,\n",
    "    save_path: str,\n",
    ") -> Callable[[str], FlowerClient]:  # pylint: disable=too-many-arguments\n",
    "    \"\"\"Generate the client function that creates the Flower Clients.\"\"\"\n",
    "\n",
    "    def client_fn(context: Context) -> FlowerClient:\n",
    "        \"\"\"Create a Flower client representing a single organization.\"\"\"\n",
    "\n",
    "        # Let's get the partition corresponding to the i-th client\n",
    "        partition_id = int(context.node_config[\"partition-id\"])\n",
    "        client_trainset = fds.load_partition(partition_id, \"train\")\n",
    "        client_trainset = client_trainset.remove_columns([\"instruction\"])\n",
    "        client_trainset = client_trainset.rename_column(\"input\", \"instruction\")\n",
    "        client_trainset = client_trainset.rename_column(\"output\", \"response\")\n",
    "        return FlowerClient(\n",
    "            model_cfg,\n",
    "            train_cfg,\n",
    "            client_trainset,\n",
    "            tokenizer,\n",
    "            formatting_prompts_func,\n",
    "            data_collator,\n",
    "            save_path,\n",
    "        ).to_client()\n",
    "\n",
    "    return client_fn"
   ]
  },
  {
   "cell_type": "markdown",
   "metadata": {},
   "source": [
    "#### Dados privados\n",
    "Embora o aprendizado federado não compartilhe os dados brutos entre os clientes, apenas intercambie os pesos do modelo, persiste o problema de vazamento de informações em modelos de linguagem grandes (LLMs). Os LLMs tendem a memorizar informações específicas em seus parâmetros durante o processo de treinamento, especialmente quando trabalham com dados sensíveis ou privados. Isso significa que, embora os dados originais não sejam compartilhados explicitamente, os parâmetros ajustados do modelo podem incorporar detalhes que refletem aspectos dos dados privados, representando um potencial risco de privacidade"
   ]
  },
  {
   "cell_type": "code",
   "execution_count": 7,
   "metadata": {},
   "outputs": [],
   "source": [
    "save_path = \"./my_fl_model_dp\"\n",
    "client = fl.client.ClientApp(\n",
    "    client_fn=gen_client_fn(\n",
    "        fds,\n",
    "        tokenizer,\n",
    "        formatting_prompts_func,\n",
    "        data_collator,\n",
    "        cfg.model, \n",
    "        cfg.train, \n",
    "        save_path,\n",
    "    ),\n",
    "    mods=[fixedclipping_mod] \n",
    ")"
   ]
  },
  {
   "cell_type": "markdown",
   "metadata": {},
   "source": [
    "### Privacidade Diferencial\n",
    "A privacidade diferencial é uma técnica que oferece garantias estatísticas para proteger a informação individual em um conjunto de dados, adicionando ruído aos resultados das análises ou algoritmos. Isso permite fazer inferências úteis em nível de grupo, enquanto oculta as contribuições de dados individuais, garantindo que o resultado não mude significativamente se um único dado for adicionado ou removido. Aplica-se principalmente para proteger dados sensíveis, como os de saúde ou financeiros, evitando que informações pessoais sejam inferidas, mesmo quando combinadas com dados externos ou ataques avançados de reidentificação.\n",
    "\n",
    "- [Privacidade Diferencial](https://flower.ai/docs/framework/explanation-differential-privacy.html)"
   ]
  },
  {
   "cell_type": "markdown",
   "metadata": {},
   "source": [
    "#### Recorte do lado do cliente\n",
    "O recorte do lado do cliente é uma técnica no aprendizado federado onde cada cliente aplica localmente um limite na magnitude de seus gradientes antes de enviá-los ao servidor central para agregação. Se os gradientes calculados excedem um limite especificado, eles são escalados para que sua magnitude não ultrapasse esse valor, preservando assim sua direção original. Essa abordagem reduz o risco de vazamento de dados sensíveis e distribui a carga computacional, evitando que o servidor precise recortar as atualizações de todos os clientes. No entanto, exige que o servidor comunique o limite de recorte aos clientes e confie que eles o apliquem corretamente, o que pode introduzir desafios de coordenação e consistência no processo de treinamento.\n",
    "- [Use Differential Privacy](https://flower.ai/docs/framework/how-to-use-differential-privacy.html)\n",
    "![Logo de Python](https://flower.ai/docs/framework/_images/clientsideCDP.png)\n"
   ]
  },
  {
   "cell_type": "markdown",
   "metadata": {},
   "source": [
    "Posteriormente, utiliza-se o mecanismo gaussiano para adicionar ruído com o objetivo de distorcer a soma das atualizações de todos os clientes. A quantidade de ruído é escalada de acordo com o valor da sensibilidade para obter uma garantia de privacidade."
   ]
  },
  {
   "cell_type": "markdown",
   "metadata": {},
   "source": [
    "* Define the server function and add Differential Privacy."
   ]
  },
  {
   "cell_type": "code",
   "execution_count": 23,
   "metadata": {},
   "outputs": [],
   "source": [
    "def server_fn(context: Context):\n",
    "    # Define the Strategy\n",
    "    strategy = fl.server.strategy.FedAvg(\n",
    "        min_available_clients=cfg.flower.num_clients, # total clients\n",
    "        fraction_fit=cfg.flower.fraction_fit, # ratio of clients to sample\n",
    "        fraction_evaluate=0.0, # No federated evaluation\n",
    "        # A (optional) function used to configure a \"fit()\" round\n",
    "        on_fit_config_fn=get_on_fit_config(),\n",
    "        # A (optional) function to aggregate metrics sent by clients\n",
    "        fit_metrics_aggregation_fn=fit_weighted_average,\n",
    "        # A (optional) function to execute on the server after each round. \n",
    "        # In this example the function only saves the global model.\n",
    "        evaluate_fn=get_evaluate_fn( \n",
    "            cfg.model,\n",
    "            cfg.train.save_every_round,\n",
    "            cfg.flower.num_rounds,\n",
    "            save_path,\n",
    "        ),\n",
    "    )\n",
    "\n",
    "    # Add Differential Privacy\n",
    "    sampled_clients = cfg.flower.num_clients*strategy.fraction_fit\n",
    "    strategy = DifferentialPrivacyClientSideFixedClipping(\n",
    "        strategy, \n",
    "        noise_multiplier=cfg.flower.dp.noise_mult,\n",
    "        clipping_norm=cfg.flower.dp.clip_norm, \n",
    "        num_sampled_clients=sampled_clients\n",
    "    )\n",
    "    \n",
    "    # Number of rounds to run the simulation\n",
    "    num_rounds = cfg.flower.num_rounds\n",
    "    config = fl.server.ServerConfig(num_rounds=num_rounds)\n",
    "    \n",
    "    return fl.server.ServerAppComponents(strategy=strategy, config=config) "
   ]
  },
  {
   "cell_type": "markdown",
   "metadata": {},
   "source": [
    "* Instantiate the ServerApp."
   ]
  },
  {
   "cell_type": "code",
   "execution_count": 24,
   "metadata": {},
   "outputs": [],
   "source": [
    "server = fl.server.ServerApp(server_fn=server_fn)"
   ]
  },
  {
   "cell_type": "markdown",
   "metadata": {},
   "source": [
    "## 4. Run"
   ]
  },
  {
   "cell_type": "markdown",
   "metadata": {},
   "source": [
    "* Run the simulation."
   ]
  },
  {
   "cell_type": "code",
   "execution_count": 25,
   "metadata": {},
   "outputs": [
    {
     "name": "stderr",
     "output_type": "stream",
     "text": [
      "\u001b[92mINFO \u001b[0m:      Starting Flower ServerApp, config: num_rounds=10, no round_timeout\n",
      "\u001b[92mINFO \u001b[0m:      \n",
      "\u001b[92mINFO \u001b[0m:      [INIT]\n",
      "\u001b[92mINFO \u001b[0m:      Requesting initial parameters from one random client\n"
     ]
    },
    {
     "name": "stderr",
     "output_type": "stream",
     "text": [
      "\u001b[92mINFO \u001b[0m:      Received initial parameters from one random client\n",
      "\u001b[92mINFO \u001b[0m:      Starting evaluation of initial global parameters\n",
      "\u001b[92mINFO \u001b[0m:      initial parameters (loss, other metrics): 0.0, {}\n",
      "\u001b[92mINFO \u001b[0m:      \n",
      "\u001b[92mINFO \u001b[0m:      [ROUND 1]\n",
      "\u001b[92mINFO \u001b[0m:      configure_fit: strategy sampled 4 clients (out of 20)\n",
      "\u001b[92mINFO \u001b[0m:      aggregate_fit: received 4 results and 0 failures\n",
      "\u001b[92mINFO \u001b[0m:      aggregate_fit: central DP noise with 0.0025 stdev added\n",
      "\u001b[92mINFO \u001b[0m:      fit progress: (1, 0.0, {}, 360.854782099952)\n",
      "\u001b[92mINFO \u001b[0m:      configure_evaluate: no clients selected, skipping evaluation\n",
      "\u001b[92mINFO \u001b[0m:      \n",
      "\u001b[92mINFO \u001b[0m:      [ROUND 2]\n",
      "\u001b[92mINFO \u001b[0m:      configure_fit: strategy sampled 4 clients (out of 20)\n",
      "\u001b[92mINFO \u001b[0m:      aggregate_fit: received 4 results and 0 failures\n",
      "\u001b[92mINFO \u001b[0m:      aggregate_fit: central DP noise with 0.0025 stdev added\n",
      "\u001b[92mINFO \u001b[0m:      fit progress: (2, 0.0, {}, 709.8555060999934)\n",
      "\u001b[92mINFO \u001b[0m:      configure_evaluate: no clients selected, skipping evaluation\n",
      "\u001b[92mINFO \u001b[0m:      \n",
      "\u001b[92mINFO \u001b[0m:      [ROUND 3]\n",
      "\u001b[92mINFO \u001b[0m:      configure_fit: strategy sampled 4 clients (out of 20)\n",
      "\u001b[92mINFO \u001b[0m:      aggregate_fit: received 4 results and 0 failures\n",
      "\u001b[92mINFO \u001b[0m:      aggregate_fit: central DP noise with 0.0025 stdev added\n",
      "\u001b[92mINFO \u001b[0m:      fit progress: (3, 0.0, {}, 1045.720024600043)\n",
      "\u001b[92mINFO \u001b[0m:      configure_evaluate: no clients selected, skipping evaluation\n",
      "\u001b[92mINFO \u001b[0m:      \n",
      "\u001b[92mINFO \u001b[0m:      [ROUND 4]\n",
      "\u001b[92mINFO \u001b[0m:      configure_fit: strategy sampled 4 clients (out of 20)\n",
      "\u001b[92mINFO \u001b[0m:      aggregate_fit: received 4 results and 0 failures\n",
      "\u001b[92mINFO \u001b[0m:      aggregate_fit: central DP noise with 0.0025 stdev added\n",
      "\u001b[92mINFO \u001b[0m:      fit progress: (4, 0.0, {}, 1392.9687937999843)\n",
      "\u001b[92mINFO \u001b[0m:      configure_evaluate: no clients selected, skipping evaluation\n",
      "\u001b[92mINFO \u001b[0m:      \n",
      "\u001b[92mINFO \u001b[0m:      [ROUND 5]\n",
      "\u001b[92mINFO \u001b[0m:      configure_fit: strategy sampled 4 clients (out of 20)\n",
      "\u001b[92mINFO \u001b[0m:      aggregate_fit: received 4 results and 0 failures\n",
      "\u001b[92mINFO \u001b[0m:      aggregate_fit: central DP noise with 0.0025 stdev added\n",
      "\u001b[92mINFO \u001b[0m:      fit progress: (5, 0.0, {}, 1692.5614437999902)\n",
      "\u001b[92mINFO \u001b[0m:      configure_evaluate: no clients selected, skipping evaluation\n",
      "\u001b[92mINFO \u001b[0m:      \n",
      "\u001b[92mINFO \u001b[0m:      [ROUND 6]\n",
      "\u001b[92mINFO \u001b[0m:      configure_fit: strategy sampled 4 clients (out of 20)\n",
      "\u001b[92mINFO \u001b[0m:      aggregate_fit: received 4 results and 0 failures\n",
      "\u001b[92mINFO \u001b[0m:      aggregate_fit: central DP noise with 0.0025 stdev added\n",
      "\u001b[92mINFO \u001b[0m:      fit progress: (6, 0.0, {}, 1975.4084746999433)\n",
      "\u001b[92mINFO \u001b[0m:      configure_evaluate: no clients selected, skipping evaluation\n",
      "\u001b[92mINFO \u001b[0m:      \n",
      "\u001b[92mINFO \u001b[0m:      [ROUND 7]\n",
      "\u001b[92mINFO \u001b[0m:      configure_fit: strategy sampled 4 clients (out of 20)\n",
      "\u001b[92mINFO \u001b[0m:      aggregate_fit: received 4 results and 0 failures\n",
      "\u001b[92mINFO \u001b[0m:      aggregate_fit: central DP noise with 0.0025 stdev added\n",
      "\u001b[92mINFO \u001b[0m:      fit progress: (7, 0.0, {}, 2288.747705799993)\n",
      "\u001b[92mINFO \u001b[0m:      configure_evaluate: no clients selected, skipping evaluation\n",
      "\u001b[92mINFO \u001b[0m:      \n",
      "\u001b[92mINFO \u001b[0m:      [ROUND 8]\n",
      "\u001b[92mINFO \u001b[0m:      configure_fit: strategy sampled 4 clients (out of 20)\n",
      "\u001b[92mINFO \u001b[0m:      aggregate_fit: received 4 results and 0 failures\n",
      "\u001b[92mINFO \u001b[0m:      aggregate_fit: central DP noise with 0.0025 stdev added\n",
      "\u001b[92mINFO \u001b[0m:      fit progress: (8, 0.0, {}, 2634.2372885999503)\n",
      "\u001b[92mINFO \u001b[0m:      configure_evaluate: no clients selected, skipping evaluation\n",
      "\u001b[92mINFO \u001b[0m:      \n",
      "\u001b[92mINFO \u001b[0m:      [ROUND 9]\n",
      "\u001b[92mINFO \u001b[0m:      configure_fit: strategy sampled 4 clients (out of 20)\n",
      "\u001b[92mINFO \u001b[0m:      aggregate_fit: received 4 results and 0 failures\n",
      "\u001b[92mINFO \u001b[0m:      aggregate_fit: central DP noise with 0.0025 stdev added\n",
      "\u001b[92mINFO \u001b[0m:      fit progress: (9, 0.0, {}, 2993.517644800013)\n",
      "\u001b[92mINFO \u001b[0m:      configure_evaluate: no clients selected, skipping evaluation\n",
      "\u001b[92mINFO \u001b[0m:      \n",
      "\u001b[92mINFO \u001b[0m:      [ROUND 10]\n",
      "\u001b[92mINFO \u001b[0m:      configure_fit: strategy sampled 4 clients (out of 20)\n",
      "\u001b[92mINFO \u001b[0m:      aggregate_fit: received 4 results and 0 failures\n",
      "\u001b[92mINFO \u001b[0m:      aggregate_fit: central DP noise with 0.0025 stdev added\n",
      "\u001b[92mINFO \u001b[0m:      fit progress: (10, 0.0, {}, 3395.479693399975)\n",
      "\u001b[92mINFO \u001b[0m:      configure_evaluate: no clients selected, skipping evaluation\n",
      "\u001b[92mINFO \u001b[0m:      \n",
      "\u001b[92mINFO \u001b[0m:      [SUMMARY]\n",
      "\u001b[92mINFO \u001b[0m:      Run finished 10 round(s) in 3395.48s\n",
      "\u001b[92mINFO \u001b[0m:      \tHistory (loss, centralized):\n",
      "\u001b[92mINFO \u001b[0m:      \t\tround 0: 0.0\n",
      "\u001b[92mINFO \u001b[0m:      \t\tround 1: 0.0\n",
      "\u001b[92mINFO \u001b[0m:      \t\tround 2: 0.0\n",
      "\u001b[92mINFO \u001b[0m:      \t\tround 3: 0.0\n",
      "\u001b[92mINFO \u001b[0m:      \t\tround 4: 0.0\n",
      "\u001b[92mINFO \u001b[0m:      \t\tround 5: 0.0\n",
      "\u001b[92mINFO \u001b[0m:      \t\tround 6: 0.0\n",
      "\u001b[92mINFO \u001b[0m:      \t\tround 7: 0.0\n",
      "\u001b[92mINFO \u001b[0m:      \t\tround 8: 0.0\n",
      "\u001b[92mINFO \u001b[0m:      \t\tround 9: 0.0\n",
      "\u001b[92mINFO \u001b[0m:      \t\tround 10: 0.0\n",
      "\u001b[92mINFO \u001b[0m:      \tHistory (metrics, distributed, fit):\n",
      "\u001b[92mINFO \u001b[0m:      \t{'train_loss': [(1, 3.847695939478722),\n",
      "\u001b[92mINFO \u001b[0m:      \t                (2, 4.3202722353114416),\n",
      "\u001b[92mINFO \u001b[0m:      \t                (3, 4.328049072301575),\n",
      "\u001b[92mINFO \u001b[0m:      \t                (4, 4.4609375),\n",
      "\u001b[92mINFO \u001b[0m:      \t                (5, 4.136699189985272),\n",
      "\u001b[92mINFO \u001b[0m:      \t                (6, 4.406222389927846),\n",
      "\u001b[92mINFO \u001b[0m:      \t                (7, 4.601526836990134),\n",
      "\u001b[92mINFO \u001b[0m:      \t                (8, 4.390625),\n",
      "\u001b[92mINFO \u001b[0m:      \t                (9, 5.140622699160653),\n",
      "\u001b[92mINFO \u001b[0m:      \t                (10, 4.875)]}\n",
      "\u001b[92mINFO \u001b[0m:      \n"
     ]
    }
   ],
   "source": [
    "fl.simulation.run_simulation(\n",
    "    server_app=server,\n",
    "    client_app=client,\n",
    "    num_supernodes=cfg.flower.num_clients,\n",
    "    backend_config={\"init_args\": backend_setup}\n",
    ")"
   ]
  },
  {
   "cell_type": "markdown",
   "metadata": {},
   "source": [
    "## 5. Run the fine-tuned model. "
   ]
  },
  {
   "cell_type": "code",
   "execution_count": 8,
   "metadata": {},
   "outputs": [],
   "source": [
    "# Load dataset\n",
    "train_dataset = load_dataset(cfg.dataset.name, split='train')\n",
    "# Select training example\n",
    "example_index = 6\n",
    "data_point = train_dataset[example_index]"
   ]
  },
  {
   "cell_type": "code",
   "execution_count": 9,
   "metadata": {},
   "outputs": [
    {
     "data": {
      "text/plain": [
       "'What are the possible causes of low glucose and high C-peptide levels?'"
      ]
     },
     "execution_count": 9,
     "metadata": {},
     "output_type": "execute_result"
    }
   ],
   "source": [
    "prompt = data_point[\"input\"]\n",
    "prompt"
   ]
  },
  {
   "cell_type": "code",
   "execution_count": 10,
   "metadata": {},
   "outputs": [
    {
     "data": {
      "text/plain": [
       "'Low glucose and high C-peptide levels can be caused by an insulinoma or the use of sulfonylurea drugs.'"
      ]
     },
     "execution_count": 10,
     "metadata": {},
     "output_type": "execute_result"
    }
   ],
   "source": [
    "answer = data_point[\"output\"]\n",
    "answer"
   ]
  },
  {
   "cell_type": "markdown",
   "metadata": {},
   "source": [
    "* Modelo pre-treinado"
   ]
  },
  {
   "cell_type": "code",
   "execution_count": 11,
   "metadata": {},
   "outputs": [
    {
     "name": "stdout",
     "output_type": "stream",
     "text": [
      "Carregando o tokenizador para EleutherAI/pythia-70m...\n",
      "Carregando o modelo pré-treinado EleutherAI/pythia-70m...\n",
      "O modelo foi carregado com sucesso no dispositivo: cpu\n"
     ]
    }
   ],
   "source": [
    "model, tokenizer = load_pretrained_model(cfg.model.name)"
   ]
  },
  {
   "cell_type": "code",
   "execution_count": 12,
   "metadata": {},
   "outputs": [
    {
     "name": "stdout",
     "output_type": "stream",
     "text": [
      "What are the possible causes of low glucose and high C-peptide levels?\n",
      ": The main reason is that there may be a decrease in insulin secretion, which can lead to an increase or even death. In fact it has been suggested by other studies (eurotide et al., [@B31]; Kahnke & Hickman; @Kahler1) for example using serum albumin as well \\[[@R32]\\]. However this study did not find any significant differences between these two conditions\n"
     ]
    }
   ],
   "source": [
    "answer1 = generate_text(model, tokenizer, data_point[\"input\"], max_length=100)\n",
    "print(answer1)"
   ]
  },
  {
   "cell_type": "markdown",
   "metadata": {},
   "source": [
    "* Modelo Fine Tuning Federado"
   ]
  },
  {
   "cell_type": "code",
   "execution_count": 13,
   "metadata": {},
   "outputs": [
    {
     "name": "stdout",
     "output_type": "stream",
     "text": [
      "Carregando o tokenizador para EleutherAI/pythia-70m...\n",
      "Carregando o modelo pré-treinado EleutherAI/pythia-70m...\n",
      "Aplicando o adaptador LoRA de ./my_fl_model_dp/peft_10/...\n",
      "trainable params: 0 || all params: 70,623,232 || trainable%: 0.0\n",
      "O modelo combinado com o adaptador LoRA foi carregado com sucesso.\n"
     ]
    }
   ],
   "source": [
    "#save_path = \"./my_fl_model\"\n",
    "lora_adapter_path = f\"{save_path}/peft_10/\"\n",
    "\n",
    "# Cargar el modelo combinado con el adaptador LoRA y el tokenizador\n",
    "model_FL, tokenizer_FL = load_model_with_lora_adapter(cfg.model.name, lora_adapter_path)"
   ]
  },
  {
   "cell_type": "code",
   "execution_count": 14,
   "metadata": {},
   "outputs": [
    {
     "name": "stdout",
     "output_type": "stream",
     "text": [
      "What are the possible causes of low glucose and high C-peptide levels?\n",
      "Certain questions that can be addressed include: (1) how to use a specific chemical as well for diagnosis, treatment objectives/conditions;(2);and why not. The nature or extent may vary with disease stage in which patients will have at least one clinical reason by including these symptoms during follow up studies on this subject's illness when they were diagnosed because their condition is known if you report any other symptom before your\n"
     ]
    }
   ],
   "source": [
    "answer2 = generate_text(model_FL, tokenizer_FL, data_point[\"input\"], max_length=100)\n",
    "print(answer2)"
   ]
  }
 ],
 "metadata": {
  "kernelspec": {
   "display_name": ".venv",
   "language": "python",
   "name": "python3"
  },
  "language_info": {
   "codemirror_mode": {
    "name": "ipython",
    "version": 3
   },
   "file_extension": ".py",
   "mimetype": "text/x-python",
   "name": "python",
   "nbconvert_exporter": "python",
   "pygments_lexer": "ipython3",
   "version": "3.12.3"
  }
 },
 "nbformat": 4,
 "nbformat_minor": 2
}
